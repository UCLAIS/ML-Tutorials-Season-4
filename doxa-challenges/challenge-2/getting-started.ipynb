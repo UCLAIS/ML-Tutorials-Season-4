{
 "cells": [
  {
   "cell_type": "markdown",
   "metadata": {},
   "source": [
    "# UCLAIS Tutorial Series Challenge 2\n",
    "\n"
   ]
  },
  {
   "cell_type": "markdown",
   "metadata": {},
   "source": [
    "In this challenge you will be explore training and inferring using neural networks. You've already seen how to use classifiers in the previous challenge on premier league prediction. Now we will look at a regression task. Simply put, instead of trying to predict from a set of discrete classes, we are predicting a continuous value. In this case we will predict the alcohol content of wine based on a set of other chemical attribute.\n",
    "\n",
    "If you do not already have a DOXA account, you will want to [sign up](https://doxaai.com/sign-up) first before proceeding and then make sure you are enrolled on the [DOXA challenge page](https://doxaai.com/competition/uclais-2023-2)."
   ]
  },
  {
   "cell_type": "markdown",
   "metadata": {},
   "source": [
    "## Machine Learning Workflow Reminder"
   ]
  },
  {
   "cell_type": "markdown",
   "metadata": {},
   "source": [
    "![title](https://miro.medium.com/max/1400/0*V0GyOt3LoDVfY7y5.png)"
   ]
  },
  {
   "cell_type": "markdown",
   "metadata": {},
   "source": [
    "The overall machine learning process covers a wide sequence of steps, so as you go through this notebook, try to keep in mind which stage are we dealing with and what we are trying to achieve. There are a lot of helpful resources online you can use, such as the excellent [scikit-learn documentation](https://scikit-learn.org/stable/getting_started.html). You are also more than welcome to ask questions in the [DOXA Community Discord server](https://discord.gg/MUvbQ3UYcf)!"
   ]
  },
  {
   "cell_type": "markdown",
   "metadata": {},
   "source": [
    "## Installing and Importing Useful Packages\n",
    "\n",
    "To get started, we will install a number of common machine learning packages."
   ]
  },
  {
   "cell_type": "code",
   "execution_count": 3,
   "metadata": {},
   "outputs": [
    {
     "name": "stdout",
     "output_type": "stream",
     "text": [
      "Requirement already satisfied: numpy in /Users/damienbose/opt/anaconda3/envs/doxa/lib/python3.10/site-packages (1.23.5)\n",
      "Requirement already satisfied: pandas in /Users/damienbose/opt/anaconda3/envs/doxa/lib/python3.10/site-packages (1.5.2)\n",
      "Requirement already satisfied: matplotlib in /Users/damienbose/opt/anaconda3/envs/doxa/lib/python3.10/site-packages (3.6.2)\n",
      "Requirement already satisfied: seaborn in /Users/damienbose/opt/anaconda3/envs/doxa/lib/python3.10/site-packages (0.12.2)\n",
      "Requirement already satisfied: scikit-learn in /Users/damienbose/opt/anaconda3/envs/doxa/lib/python3.10/site-packages (1.1.3)\n",
      "Requirement already satisfied: ipympl in /Users/damienbose/opt/anaconda3/envs/doxa/lib/python3.10/site-packages (0.9.3)\n",
      "Requirement already satisfied: livelossplot in /Users/damienbose/opt/anaconda3/envs/doxa/lib/python3.10/site-packages (0.5.5)\n",
      "Requirement already satisfied: python-dateutil>=2.8.1 in /Users/damienbose/opt/anaconda3/envs/doxa/lib/python3.10/site-packages (from pandas) (2.8.2)\n",
      "Requirement already satisfied: pytz>=2020.1 in /Users/damienbose/opt/anaconda3/envs/doxa/lib/python3.10/site-packages (from pandas) (2022.7)\n",
      "Requirement already satisfied: contourpy>=1.0.1 in /Users/damienbose/opt/anaconda3/envs/doxa/lib/python3.10/site-packages (from matplotlib) (1.0.5)\n",
      "Requirement already satisfied: cycler>=0.10 in /Users/damienbose/opt/anaconda3/envs/doxa/lib/python3.10/site-packages (from matplotlib) (0.11.0)\n",
      "Requirement already satisfied: fonttools>=4.22.0 in /Users/damienbose/opt/anaconda3/envs/doxa/lib/python3.10/site-packages (from matplotlib) (4.25.0)\n",
      "Requirement already satisfied: kiwisolver>=1.0.1 in /Users/damienbose/opt/anaconda3/envs/doxa/lib/python3.10/site-packages (from matplotlib) (1.4.4)\n",
      "Requirement already satisfied: packaging>=20.0 in /Users/damienbose/opt/anaconda3/envs/doxa/lib/python3.10/site-packages (from matplotlib) (22.0)\n",
      "Requirement already satisfied: pillow>=6.2.0 in /Users/damienbose/opt/anaconda3/envs/doxa/lib/python3.10/site-packages (from matplotlib) (9.3.0)\n",
      "Requirement already satisfied: pyparsing>=2.2.1 in /Users/damienbose/opt/anaconda3/envs/doxa/lib/python3.10/site-packages (from matplotlib) (3.0.9)\n",
      "Requirement already satisfied: scipy>=1.3.2 in /Users/damienbose/opt/anaconda3/envs/doxa/lib/python3.10/site-packages (from scikit-learn) (1.9.3)\n",
      "Requirement already satisfied: joblib>=1.0.0 in /Users/damienbose/opt/anaconda3/envs/doxa/lib/python3.10/site-packages (from scikit-learn) (1.1.1)\n",
      "Requirement already satisfied: threadpoolctl>=2.0.0 in /Users/damienbose/opt/anaconda3/envs/doxa/lib/python3.10/site-packages (from scikit-learn) (2.2.0)\n",
      "Requirement already satisfied: ipython<9 in /Users/damienbose/opt/anaconda3/envs/doxa/lib/python3.10/site-packages (from ipympl) (8.7.0)\n",
      "Requirement already satisfied: ipython-genutils in /Users/damienbose/opt/anaconda3/envs/doxa/lib/python3.10/site-packages (from ipympl) (0.2.0)\n",
      "Requirement already satisfied: traitlets<6 in /Users/damienbose/opt/anaconda3/envs/doxa/lib/python3.10/site-packages (from ipympl) (5.7.1)\n",
      "Requirement already satisfied: ipywidgets<9,>=7.6.0 in /Users/damienbose/opt/anaconda3/envs/doxa/lib/python3.10/site-packages (from ipympl) (7.6.5)\n",
      "Requirement already satisfied: bokeh in /Users/damienbose/opt/anaconda3/envs/doxa/lib/python3.10/site-packages (from livelossplot) (3.2.2)\n",
      "Requirement already satisfied: backcall in /Users/damienbose/opt/anaconda3/envs/doxa/lib/python3.10/site-packages (from ipython<9->ipympl) (0.2.0)\n",
      "Requirement already satisfied: decorator in /Users/damienbose/opt/anaconda3/envs/doxa/lib/python3.10/site-packages (from ipython<9->ipympl) (5.1.1)\n",
      "Requirement already satisfied: jedi>=0.16 in /Users/damienbose/opt/anaconda3/envs/doxa/lib/python3.10/site-packages (from ipython<9->ipympl) (0.18.1)\n",
      "Requirement already satisfied: matplotlib-inline in /Users/damienbose/opt/anaconda3/envs/doxa/lib/python3.10/site-packages (from ipython<9->ipympl) (0.1.6)\n",
      "Requirement already satisfied: pickleshare in /Users/damienbose/opt/anaconda3/envs/doxa/lib/python3.10/site-packages (from ipython<9->ipympl) (0.7.5)\n",
      "Requirement already satisfied: prompt-toolkit<3.1.0,>=3.0.11 in /Users/damienbose/opt/anaconda3/envs/doxa/lib/python3.10/site-packages (from ipython<9->ipympl) (3.0.36)\n",
      "Requirement already satisfied: pygments>=2.4.0 in /Users/damienbose/opt/anaconda3/envs/doxa/lib/python3.10/site-packages (from ipython<9->ipympl) (2.16.1)\n",
      "Requirement already satisfied: stack-data in /Users/damienbose/opt/anaconda3/envs/doxa/lib/python3.10/site-packages (from ipython<9->ipympl) (0.2.0)\n",
      "Requirement already satisfied: pexpect>4.3 in /Users/damienbose/opt/anaconda3/envs/doxa/lib/python3.10/site-packages (from ipython<9->ipympl) (4.8.0)\n",
      "Requirement already satisfied: appnope in /Users/damienbose/opt/anaconda3/envs/doxa/lib/python3.10/site-packages (from ipython<9->ipympl) (0.1.2)\n",
      "Requirement already satisfied: ipykernel>=4.5.1 in /Users/damienbose/opt/anaconda3/envs/doxa/lib/python3.10/site-packages (from ipywidgets<9,>=7.6.0->ipympl) (6.19.2)\n",
      "Requirement already satisfied: nbformat>=4.2.0 in /Users/damienbose/opt/anaconda3/envs/doxa/lib/python3.10/site-packages (from ipywidgets<9,>=7.6.0->ipympl) (5.7.0)\n",
      "Requirement already satisfied: widgetsnbextension~=3.5.0 in /Users/damienbose/opt/anaconda3/envs/doxa/lib/python3.10/site-packages (from ipywidgets<9,>=7.6.0->ipympl) (3.5.2)\n",
      "Requirement already satisfied: jupyterlab-widgets>=1.0.0 in /Users/damienbose/opt/anaconda3/envs/doxa/lib/python3.10/site-packages (from ipywidgets<9,>=7.6.0->ipympl) (1.0.0)\n",
      "Requirement already satisfied: six>=1.5 in /Users/damienbose/opt/anaconda3/envs/doxa/lib/python3.10/site-packages (from python-dateutil>=2.8.1->pandas) (1.16.0)\n",
      "Requirement already satisfied: Jinja2>=2.9 in /Users/damienbose/opt/anaconda3/envs/doxa/lib/python3.10/site-packages (from bokeh->livelossplot) (3.1.2)\n",
      "Requirement already satisfied: PyYAML>=3.10 in /Users/damienbose/opt/anaconda3/envs/doxa/lib/python3.10/site-packages (from bokeh->livelossplot) (6.0)\n",
      "Requirement already satisfied: tornado>=5.1 in /Users/damienbose/opt/anaconda3/envs/doxa/lib/python3.10/site-packages (from bokeh->livelossplot) (6.2)\n",
      "Requirement already satisfied: xyzservices>=2021.09.1 in /Users/damienbose/opt/anaconda3/envs/doxa/lib/python3.10/site-packages (from bokeh->livelossplot) (2023.7.0)\n",
      "Requirement already satisfied: comm>=0.1.1 in /Users/damienbose/opt/anaconda3/envs/doxa/lib/python3.10/site-packages (from ipykernel>=4.5.1->ipywidgets<9,>=7.6.0->ipympl) (0.1.2)\n",
      "Requirement already satisfied: debugpy>=1.0 in /Users/damienbose/opt/anaconda3/envs/doxa/lib/python3.10/site-packages (from ipykernel>=4.5.1->ipywidgets<9,>=7.6.0->ipympl) (1.5.1)\n",
      "Requirement already satisfied: jupyter-client>=6.1.12 in /Users/damienbose/opt/anaconda3/envs/doxa/lib/python3.10/site-packages (from ipykernel>=4.5.1->ipywidgets<9,>=7.6.0->ipympl) (7.4.8)\n",
      "Requirement already satisfied: nest-asyncio in /Users/damienbose/opt/anaconda3/envs/doxa/lib/python3.10/site-packages (from ipykernel>=4.5.1->ipywidgets<9,>=7.6.0->ipympl) (1.5.6)\n",
      "Requirement already satisfied: psutil in /Users/damienbose/opt/anaconda3/envs/doxa/lib/python3.10/site-packages (from ipykernel>=4.5.1->ipywidgets<9,>=7.6.0->ipympl) (5.9.0)\n",
      "Requirement already satisfied: pyzmq>=17 in /Users/damienbose/opt/anaconda3/envs/doxa/lib/python3.10/site-packages (from ipykernel>=4.5.1->ipywidgets<9,>=7.6.0->ipympl) (23.2.0)\n",
      "Requirement already satisfied: parso<0.9.0,>=0.8.0 in /Users/damienbose/opt/anaconda3/envs/doxa/lib/python3.10/site-packages (from jedi>=0.16->ipython<9->ipympl) (0.8.3)\n",
      "Requirement already satisfied: MarkupSafe>=2.0 in /Users/damienbose/opt/anaconda3/envs/doxa/lib/python3.10/site-packages (from Jinja2>=2.9->bokeh->livelossplot) (2.1.1)\n",
      "Requirement already satisfied: fastjsonschema in /Users/damienbose/opt/anaconda3/envs/doxa/lib/python3.10/site-packages (from nbformat>=4.2.0->ipywidgets<9,>=7.6.0->ipympl) (2.16.2)\n",
      "Requirement already satisfied: jsonschema>=2.6 in /Users/damienbose/opt/anaconda3/envs/doxa/lib/python3.10/site-packages (from nbformat>=4.2.0->ipywidgets<9,>=7.6.0->ipympl) (4.16.0)\n",
      "Requirement already satisfied: jupyter-core in /Users/damienbose/opt/anaconda3/envs/doxa/lib/python3.10/site-packages (from nbformat>=4.2.0->ipywidgets<9,>=7.6.0->ipympl) (5.1.1)\n",
      "Requirement already satisfied: ptyprocess>=0.5 in /Users/damienbose/opt/anaconda3/envs/doxa/lib/python3.10/site-packages (from pexpect>4.3->ipython<9->ipympl) (0.7.0)\n",
      "Requirement already satisfied: wcwidth in /Users/damienbose/opt/anaconda3/envs/doxa/lib/python3.10/site-packages (from prompt-toolkit<3.1.0,>=3.0.11->ipython<9->ipympl) (0.2.5)\n",
      "Requirement already satisfied: notebook>=4.4.1 in /Users/damienbose/opt/anaconda3/envs/doxa/lib/python3.10/site-packages (from widgetsnbextension~=3.5.0->ipywidgets<9,>=7.6.0->ipympl) (6.5.2)\n",
      "Requirement already satisfied: executing in /Users/damienbose/opt/anaconda3/envs/doxa/lib/python3.10/site-packages (from stack-data->ipython<9->ipympl) (0.8.3)\n",
      "Requirement already satisfied: asttokens in /Users/damienbose/opt/anaconda3/envs/doxa/lib/python3.10/site-packages (from stack-data->ipython<9->ipympl) (2.0.5)\n",
      "Requirement already satisfied: pure-eval in /Users/damienbose/opt/anaconda3/envs/doxa/lib/python3.10/site-packages (from stack-data->ipython<9->ipympl) (0.2.2)\n",
      "Requirement already satisfied: attrs>=17.4.0 in /Users/damienbose/opt/anaconda3/envs/doxa/lib/python3.10/site-packages (from jsonschema>=2.6->nbformat>=4.2.0->ipywidgets<9,>=7.6.0->ipympl) (22.1.0)\n",
      "Requirement already satisfied: pyrsistent!=0.17.0,!=0.17.1,!=0.17.2,>=0.14.0 in /Users/damienbose/opt/anaconda3/envs/doxa/lib/python3.10/site-packages (from jsonschema>=2.6->nbformat>=4.2.0->ipywidgets<9,>=7.6.0->ipympl) (0.18.0)\n",
      "Requirement already satisfied: entrypoints in /Users/damienbose/opt/anaconda3/envs/doxa/lib/python3.10/site-packages (from jupyter-client>=6.1.12->ipykernel>=4.5.1->ipywidgets<9,>=7.6.0->ipympl) (0.4)\n",
      "Requirement already satisfied: platformdirs>=2.5 in /Users/damienbose/opt/anaconda3/envs/doxa/lib/python3.10/site-packages (from jupyter-core->nbformat>=4.2.0->ipywidgets<9,>=7.6.0->ipympl) (4.1.0)\n",
      "Requirement already satisfied: argon2-cffi in /Users/damienbose/opt/anaconda3/envs/doxa/lib/python3.10/site-packages (from notebook>=4.4.1->widgetsnbextension~=3.5.0->ipywidgets<9,>=7.6.0->ipympl) (21.3.0)\n",
      "Requirement already satisfied: nbconvert>=5 in /Users/damienbose/opt/anaconda3/envs/doxa/lib/python3.10/site-packages (from notebook>=4.4.1->widgetsnbextension~=3.5.0->ipywidgets<9,>=7.6.0->ipympl) (6.5.4)\n",
      "Requirement already satisfied: Send2Trash>=1.8.0 in /Users/damienbose/opt/anaconda3/envs/doxa/lib/python3.10/site-packages (from notebook>=4.4.1->widgetsnbextension~=3.5.0->ipywidgets<9,>=7.6.0->ipympl) (1.8.0)\n",
      "Requirement already satisfied: terminado>=0.8.3 in /Users/damienbose/opt/anaconda3/envs/doxa/lib/python3.10/site-packages (from notebook>=4.4.1->widgetsnbextension~=3.5.0->ipywidgets<9,>=7.6.0->ipympl) (0.17.1)\n",
      "Requirement already satisfied: prometheus-client in /Users/damienbose/opt/anaconda3/envs/doxa/lib/python3.10/site-packages (from notebook>=4.4.1->widgetsnbextension~=3.5.0->ipywidgets<9,>=7.6.0->ipympl) (0.14.1)\n",
      "Requirement already satisfied: nbclassic>=0.4.7 in /Users/damienbose/opt/anaconda3/envs/doxa/lib/python3.10/site-packages (from notebook>=4.4.1->widgetsnbextension~=3.5.0->ipywidgets<9,>=7.6.0->ipympl) (0.4.8)\n",
      "Requirement already satisfied: jupyter-server>=1.8 in /Users/damienbose/opt/anaconda3/envs/doxa/lib/python3.10/site-packages (from nbclassic>=0.4.7->notebook>=4.4.1->widgetsnbextension~=3.5.0->ipywidgets<9,>=7.6.0->ipympl) (1.23.4)\n",
      "Requirement already satisfied: notebook-shim>=0.1.0 in /Users/damienbose/opt/anaconda3/envs/doxa/lib/python3.10/site-packages (from nbclassic>=0.4.7->notebook>=4.4.1->widgetsnbextension~=3.5.0->ipywidgets<9,>=7.6.0->ipympl) (0.2.2)\n",
      "Requirement already satisfied: lxml in /Users/damienbose/opt/anaconda3/envs/doxa/lib/python3.10/site-packages (from nbconvert>=5->notebook>=4.4.1->widgetsnbextension~=3.5.0->ipywidgets<9,>=7.6.0->ipympl) (4.9.1)\n",
      "Requirement already satisfied: beautifulsoup4 in /Users/damienbose/opt/anaconda3/envs/doxa/lib/python3.10/site-packages (from nbconvert>=5->notebook>=4.4.1->widgetsnbextension~=3.5.0->ipywidgets<9,>=7.6.0->ipympl) (4.11.1)\n",
      "Requirement already satisfied: bleach in /Users/damienbose/opt/anaconda3/envs/doxa/lib/python3.10/site-packages (from nbconvert>=5->notebook>=4.4.1->widgetsnbextension~=3.5.0->ipywidgets<9,>=7.6.0->ipympl) (4.1.0)\n",
      "Requirement already satisfied: defusedxml in /Users/damienbose/opt/anaconda3/envs/doxa/lib/python3.10/site-packages (from nbconvert>=5->notebook>=4.4.1->widgetsnbextension~=3.5.0->ipywidgets<9,>=7.6.0->ipympl) (0.7.1)\n",
      "Requirement already satisfied: jupyterlab-pygments in /Users/damienbose/opt/anaconda3/envs/doxa/lib/python3.10/site-packages (from nbconvert>=5->notebook>=4.4.1->widgetsnbextension~=3.5.0->ipywidgets<9,>=7.6.0->ipympl) (0.1.2)\n",
      "Requirement already satisfied: mistune<2,>=0.8.1 in /Users/damienbose/opt/anaconda3/envs/doxa/lib/python3.10/site-packages (from nbconvert>=5->notebook>=4.4.1->widgetsnbextension~=3.5.0->ipywidgets<9,>=7.6.0->ipympl) (0.8.4)\n",
      "Requirement already satisfied: nbclient>=0.5.0 in /Users/damienbose/opt/anaconda3/envs/doxa/lib/python3.10/site-packages (from nbconvert>=5->notebook>=4.4.1->widgetsnbextension~=3.5.0->ipywidgets<9,>=7.6.0->ipympl) (0.5.13)\n",
      "Requirement already satisfied: pandocfilters>=1.4.1 in /Users/damienbose/opt/anaconda3/envs/doxa/lib/python3.10/site-packages (from nbconvert>=5->notebook>=4.4.1->widgetsnbextension~=3.5.0->ipywidgets<9,>=7.6.0->ipympl) (1.5.0)\n",
      "Requirement already satisfied: tinycss2 in /Users/damienbose/opt/anaconda3/envs/doxa/lib/python3.10/site-packages (from nbconvert>=5->notebook>=4.4.1->widgetsnbextension~=3.5.0->ipywidgets<9,>=7.6.0->ipympl) (1.2.1)\n",
      "Requirement already satisfied: argon2-cffi-bindings in /Users/damienbose/opt/anaconda3/envs/doxa/lib/python3.10/site-packages (from argon2-cffi->notebook>=4.4.1->widgetsnbextension~=3.5.0->ipywidgets<9,>=7.6.0->ipympl) (21.2.0)\n",
      "Requirement already satisfied: anyio<4,>=3.1.0 in /Users/damienbose/opt/anaconda3/envs/doxa/lib/python3.10/site-packages (from jupyter-server>=1.8->nbclassic>=0.4.7->notebook>=4.4.1->widgetsnbextension~=3.5.0->ipywidgets<9,>=7.6.0->ipympl) (3.5.0)\n",
      "Requirement already satisfied: websocket-client in /Users/damienbose/opt/anaconda3/envs/doxa/lib/python3.10/site-packages (from jupyter-server>=1.8->nbclassic>=0.4.7->notebook>=4.4.1->widgetsnbextension~=3.5.0->ipywidgets<9,>=7.6.0->ipympl) (0.58.0)\n",
      "Requirement already satisfied: cffi>=1.0.1 in /Users/damienbose/opt/anaconda3/envs/doxa/lib/python3.10/site-packages (from argon2-cffi-bindings->argon2-cffi->notebook>=4.4.1->widgetsnbextension~=3.5.0->ipywidgets<9,>=7.6.0->ipympl) (1.15.1)\n",
      "Requirement already satisfied: soupsieve>1.2 in /Users/damienbose/opt/anaconda3/envs/doxa/lib/python3.10/site-packages (from beautifulsoup4->nbconvert>=5->notebook>=4.4.1->widgetsnbextension~=3.5.0->ipywidgets<9,>=7.6.0->ipympl) (2.3.2.post1)\n",
      "Requirement already satisfied: webencodings in /Users/damienbose/opt/anaconda3/envs/doxa/lib/python3.10/site-packages (from bleach->nbconvert>=5->notebook>=4.4.1->widgetsnbextension~=3.5.0->ipywidgets<9,>=7.6.0->ipympl) (0.5.1)\n",
      "Requirement already satisfied: idna>=2.8 in /Users/damienbose/opt/anaconda3/envs/doxa/lib/python3.10/site-packages (from anyio<4,>=3.1.0->jupyter-server>=1.8->nbclassic>=0.4.7->notebook>=4.4.1->widgetsnbextension~=3.5.0->ipywidgets<9,>=7.6.0->ipympl) (3.4)\n",
      "Requirement already satisfied: sniffio>=1.1 in /Users/damienbose/opt/anaconda3/envs/doxa/lib/python3.10/site-packages (from anyio<4,>=3.1.0->jupyter-server>=1.8->nbclassic>=0.4.7->notebook>=4.4.1->widgetsnbextension~=3.5.0->ipywidgets<9,>=7.6.0->ipympl) (1.2.0)\n",
      "Requirement already satisfied: pycparser in /Users/damienbose/opt/anaconda3/envs/doxa/lib/python3.10/site-packages (from cffi>=1.0.1->argon2-cffi-bindings->argon2-cffi->notebook>=4.4.1->widgetsnbextension~=3.5.0->ipywidgets<9,>=7.6.0->ipympl) (2.21)\n",
      "Note: you may need to restart the kernel to use updated packages.\n",
      "Requirement already satisfied: doxa-cli in /Users/damienbose/opt/anaconda3/envs/doxa/lib/python3.10/site-packages (0.1.5)\n",
      "Requirement already satisfied: halo>=0.0.31,~=0.0.31 in /Users/damienbose/opt/anaconda3/envs/doxa/lib/python3.10/site-packages (from doxa-cli) (0.0.31)\n",
      "Requirement already satisfied: platformdirs>=4.0.0 in /Users/damienbose/opt/anaconda3/envs/doxa/lib/python3.10/site-packages (from doxa-cli) (4.1.0)\n",
      "Requirement already satisfied: pyyaml>=6.0 in /Users/damienbose/opt/anaconda3/envs/doxa/lib/python3.10/site-packages (from doxa-cli) (6.0)\n",
      "Requirement already satisfied: requests-toolbelt~=0.10.1 in /Users/damienbose/opt/anaconda3/envs/doxa/lib/python3.10/site-packages (from doxa-cli) (0.10.1)\n",
      "Requirement already satisfied: requests~=2.26.0 in /Users/damienbose/opt/anaconda3/envs/doxa/lib/python3.10/site-packages (from doxa-cli) (2.26.0)\n",
      "Requirement already satisfied: typer>=0.9.0 in /Users/damienbose/opt/anaconda3/envs/doxa/lib/python3.10/site-packages (from typer[all]>=0.9.0->doxa-cli) (0.9.0)\n",
      "Requirement already satisfied: log-symbols>=0.0.14 in /Users/damienbose/opt/anaconda3/envs/doxa/lib/python3.10/site-packages (from halo>=0.0.31,~=0.0.31->doxa-cli) (0.0.14)\n",
      "Requirement already satisfied: spinners>=0.0.24 in /Users/damienbose/opt/anaconda3/envs/doxa/lib/python3.10/site-packages (from halo>=0.0.31,~=0.0.31->doxa-cli) (0.0.24)\n",
      "Requirement already satisfied: termcolor>=1.1.0 in /Users/damienbose/opt/anaconda3/envs/doxa/lib/python3.10/site-packages (from halo>=0.0.31,~=0.0.31->doxa-cli) (2.2.0)\n",
      "Requirement already satisfied: colorama>=0.3.9 in /Users/damienbose/opt/anaconda3/envs/doxa/lib/python3.10/site-packages (from halo>=0.0.31,~=0.0.31->doxa-cli) (0.4.6)\n",
      "Requirement already satisfied: six>=1.12.0 in /Users/damienbose/opt/anaconda3/envs/doxa/lib/python3.10/site-packages (from halo>=0.0.31,~=0.0.31->doxa-cli) (1.16.0)\n",
      "Requirement already satisfied: urllib3<1.27,>=1.21.1 in /Users/damienbose/opt/anaconda3/envs/doxa/lib/python3.10/site-packages (from requests~=2.26.0->doxa-cli) (1.26.13)\n",
      "Requirement already satisfied: certifi>=2017.4.17 in /Users/damienbose/opt/anaconda3/envs/doxa/lib/python3.10/site-packages (from requests~=2.26.0->doxa-cli) (2023.7.22)\n",
      "Requirement already satisfied: charset-normalizer~=2.0.0 in /Users/damienbose/opt/anaconda3/envs/doxa/lib/python3.10/site-packages (from requests~=2.26.0->doxa-cli) (2.0.4)\n",
      "Requirement already satisfied: idna<4,>=2.5 in /Users/damienbose/opt/anaconda3/envs/doxa/lib/python3.10/site-packages (from requests~=2.26.0->doxa-cli) (3.4)\n",
      "Requirement already satisfied: click<9.0.0,>=7.1.1 in /Users/damienbose/opt/anaconda3/envs/doxa/lib/python3.10/site-packages (from typer>=0.9.0->typer[all]>=0.9.0->doxa-cli) (8.1.3)\n",
      "Requirement already satisfied: typing-extensions>=3.7.4.3 in /Users/damienbose/opt/anaconda3/envs/doxa/lib/python3.10/site-packages (from typer>=0.9.0->typer[all]>=0.9.0->doxa-cli) (4.4.0)\n",
      "Requirement already satisfied: shellingham<2.0.0,>=1.3.0 in /Users/damienbose/opt/anaconda3/envs/doxa/lib/python3.10/site-packages (from typer[all]>=0.9.0->doxa-cli) (1.5.4)\n",
      "Requirement already satisfied: rich<14.0.0,>=10.11.0 in /Users/damienbose/opt/anaconda3/envs/doxa/lib/python3.10/site-packages (from typer[all]>=0.9.0->doxa-cli) (13.7.0)\n",
      "Requirement already satisfied: markdown-it-py>=2.2.0 in /Users/damienbose/opt/anaconda3/envs/doxa/lib/python3.10/site-packages (from rich<14.0.0,>=10.11.0->typer[all]>=0.9.0->doxa-cli) (3.0.0)\n",
      "Requirement already satisfied: pygments<3.0.0,>=2.13.0 in /Users/damienbose/opt/anaconda3/envs/doxa/lib/python3.10/site-packages (from rich<14.0.0,>=10.11.0->typer[all]>=0.9.0->doxa-cli) (2.16.1)\n",
      "Requirement already satisfied: mdurl~=0.1 in /Users/damienbose/opt/anaconda3/envs/doxa/lib/python3.10/site-packages (from markdown-it-py>=2.2.0->rich<14.0.0,>=10.11.0->typer[all]>=0.9.0->doxa-cli) (0.1.2)\n",
      "Note: you may need to restart the kernel to use updated packages.\n"
     ]
    }
   ],
   "source": [
    "%pip install numpy pandas matplotlib seaborn scikit-learn ipympl livelossplot\n",
    "%pip install -U doxa-cli"
   ]
  },
  {
   "cell_type": "code",
   "execution_count": 4,
   "metadata": {},
   "outputs": [],
   "source": [
    "# Import relevant libraries\n",
    "import os\n",
    "import numpy as np\n",
    "import pandas as pd\n",
    "import seaborn as sns\n",
    "import matplotlib.pyplot as plt\n",
    "from sklearn.model_selection import train_test_split\n",
    "import torch\n",
    "import torch.nn as nn\n",
    "import random\n",
    "from sklearn.preprocessing import StandardScaler\n",
    "\n",
    "%matplotlib inline"
   ]
  },
  {
   "cell_type": "code",
   "execution_count": 5,
   "metadata": {},
   "outputs": [],
   "source": [
    "# Set random seeds for reproducibility\n",
    "np.random.seed(42)\n",
    "torch.manual_seed(42)\n",
    "random.seed(42)"
   ]
  },
  {
   "cell_type": "code",
   "execution_count": 6,
   "metadata": {},
   "outputs": [],
   "source": [
    "# this gives live loss plots -- recommended\n",
    "from livelossplot import PlotLosses"
   ]
  },
  {
   "cell_type": "markdown",
   "metadata": {},
   "source": [
    "We now also make sure we're using out computer GPU for best performance. Make sure it says \"Using cuda device\" below. If not, go to \"Runtime\" -> \"Change runtime type\" in google colab and change to GPU. This will make model training a lot faster!!"
   ]
  },
  {
   "cell_type": "code",
   "execution_count": 7,
   "metadata": {},
   "outputs": [
    {
     "name": "stdout",
     "output_type": "stream",
     "text": [
      "Using cpu device\n"
     ]
    }
   ],
   "source": [
    "device = (\n",
    "    \"cuda\"\n",
    "    if torch.cuda.is_available()\n",
    "    else \"cpu\"\n",
    ")\n",
    "print(f\"Using {device} device\")"
   ]
  },
  {
   "cell_type": "markdown",
   "metadata": {},
   "source": [
    "## Data Loading"
   ]
  },
  {
   "cell_type": "markdown",
   "metadata": {},
   "source": [
    "We now load the data as a panda's dataframe. We use the [wine quality dataset](https://archive.ics.uci.edu/dataset/186/wine+quality). The goal of this challenge will be to use a neural network to predict the alcohol content of a wine given its other properties. The properties are based on physicochemical tests, and there are 10 features in total. The target variable is the alcohol content, which is a continuous variable."
   ]
  },
  {
   "cell_type": "code",
   "execution_count": 8,
   "metadata": {},
   "outputs": [
    {
     "name": "stdout",
     "output_type": "stream",
     "text": [
      "  % Total    % Received % Xferd  Average Speed   Time    Time     Time  Current\n",
      "                                 Dload  Upload   Total   Spent    Left  Speed\n",
      "100  286k  100  286k    0     0   952k      0 --:--:-- --:--:-- --:--:--  972k\n",
      "  % Total    % Received % Xferd  Average Speed   Time    Time     Time  Current\n",
      "                                 Dload  Upload   Total   Spent    Left  Speed\n",
      "100 67238  100 67238    0     0   186k      0 --:--:-- --:--:-- --:--:--  190k\n"
     ]
    }
   ],
   "source": [
    "# Download the dataset if we don't already have it!\n",
    "if not os.path.exists(\"data\"):\n",
    "    os.makedirs(\"data\", exist_ok=True)\n",
    "\n",
    "    !curl https://raw.githubusercontent.com/UCLAIS/ml-tutorials-season-4/main/doxa-challenges/challenge-2/data/train.csv --output data/train.csv\n",
    "    !curl https://raw.githubusercontent.com/UCLAIS/ml-tutorials-season-4/main/doxa-challenges/challenge-2/data/test.csv --output data/test.csv"
   ]
  },
  {
   "cell_type": "code",
   "execution_count": 9,
   "metadata": {},
   "outputs": [],
   "source": [
    "# Import the training dataset\n",
    "train_df_original = pd.read_csv(\n",
    "    \"./data/train.csv\"\n",
    ")  # Change the path accordingly\n",
    "\n",
    "# Import the testing dataset\n",
    "test_df = pd.read_csv(\n",
    "    \"./data/test.csv\"\n",
    ")  # Change the path accordingly"
   ]
  },
  {
   "cell_type": "code",
   "execution_count": 10,
   "metadata": {},
   "outputs": [],
   "source": [
    "# We can then make an in-memory copy of the training set to manipulate\n",
    "# and process while leaving the original intact as we experiment\n",
    "df = train_df_original.copy()"
   ]
  },
  {
   "cell_type": "markdown",
   "metadata": {},
   "source": [
    "## Data Understanding\n",
    "Before we start to train our Machine Learning model, it is important to have a look and understand first the dataset that we will be using. This will provide some insights onto which model, model hyperparameter, and loss function are suitable for the problem we are dealing with. The [first doxa challenge](https://doxaai.com/competition/uclais-2023-1) has good content on data understanding. Check that out if you want to explore further. "
   ]
  },
  {
   "cell_type": "code",
   "execution_count": 22,
   "metadata": {},
   "outputs": [
    {
     "data": {
      "text/html": [
       "<div>\n",
       "<style scoped>\n",
       "    .dataframe tbody tr th:only-of-type {\n",
       "        vertical-align: middle;\n",
       "    }\n",
       "\n",
       "    .dataframe tbody tr th {\n",
       "        vertical-align: top;\n",
       "    }\n",
       "\n",
       "    .dataframe thead th {\n",
       "        text-align: right;\n",
       "    }\n",
       "</style>\n",
       "<table border=\"1\" class=\"dataframe\">\n",
       "  <thead>\n",
       "    <tr style=\"text-align: right;\">\n",
       "      <th></th>\n",
       "      <th>fixed_acidity</th>\n",
       "      <th>volatile_acidity</th>\n",
       "      <th>citric_acid</th>\n",
       "      <th>residual_sugar</th>\n",
       "      <th>chlorides</th>\n",
       "      <th>free_sulfur_dioxide</th>\n",
       "      <th>total_sulfur_dioxide</th>\n",
       "      <th>density</th>\n",
       "      <th>pH</th>\n",
       "      <th>sulphates</th>\n",
       "      <th>alcohol</th>\n",
       "    </tr>\n",
       "  </thead>\n",
       "  <tbody>\n",
       "    <tr>\n",
       "      <th>0</th>\n",
       "      <td>6.6</td>\n",
       "      <td>0.240</td>\n",
       "      <td>0.35</td>\n",
       "      <td>7.7</td>\n",
       "      <td>0.031</td>\n",
       "      <td>36.0</td>\n",
       "      <td>135.0</td>\n",
       "      <td>0.99380</td>\n",
       "      <td>3.19</td>\n",
       "      <td>0.37</td>\n",
       "      <td>10.5</td>\n",
       "    </tr>\n",
       "    <tr>\n",
       "      <th>1</th>\n",
       "      <td>8.3</td>\n",
       "      <td>0.280</td>\n",
       "      <td>0.48</td>\n",
       "      <td>2.1</td>\n",
       "      <td>0.093</td>\n",
       "      <td>6.0</td>\n",
       "      <td>12.0</td>\n",
       "      <td>0.99408</td>\n",
       "      <td>3.26</td>\n",
       "      <td>0.62</td>\n",
       "      <td>12.4</td>\n",
       "    </tr>\n",
       "    <tr>\n",
       "      <th>2</th>\n",
       "      <td>7.7</td>\n",
       "      <td>0.715</td>\n",
       "      <td>0.01</td>\n",
       "      <td>2.1</td>\n",
       "      <td>0.064</td>\n",
       "      <td>31.0</td>\n",
       "      <td>43.0</td>\n",
       "      <td>0.99371</td>\n",
       "      <td>3.41</td>\n",
       "      <td>0.57</td>\n",
       "      <td>11.8</td>\n",
       "    </tr>\n",
       "    <tr>\n",
       "      <th>3</th>\n",
       "      <td>5.2</td>\n",
       "      <td>0.370</td>\n",
       "      <td>0.33</td>\n",
       "      <td>1.2</td>\n",
       "      <td>0.028</td>\n",
       "      <td>13.0</td>\n",
       "      <td>81.0</td>\n",
       "      <td>0.99020</td>\n",
       "      <td>3.37</td>\n",
       "      <td>0.38</td>\n",
       "      <td>11.7</td>\n",
       "    </tr>\n",
       "    <tr>\n",
       "      <th>4</th>\n",
       "      <td>6.6</td>\n",
       "      <td>0.260</td>\n",
       "      <td>0.56</td>\n",
       "      <td>15.4</td>\n",
       "      <td>0.053</td>\n",
       "      <td>32.0</td>\n",
       "      <td>141.0</td>\n",
       "      <td>0.99810</td>\n",
       "      <td>3.11</td>\n",
       "      <td>0.49</td>\n",
       "      <td>9.3</td>\n",
       "    </tr>\n",
       "  </tbody>\n",
       "</table>\n",
       "</div>"
      ],
      "text/plain": [
       "   fixed_acidity  volatile_acidity  citric_acid  residual_sugar  chlorides  \\\n",
       "0            6.6             0.240         0.35             7.7      0.031   \n",
       "1            8.3             0.280         0.48             2.1      0.093   \n",
       "2            7.7             0.715         0.01             2.1      0.064   \n",
       "3            5.2             0.370         0.33             1.2      0.028   \n",
       "4            6.6             0.260         0.56            15.4      0.053   \n",
       "\n",
       "   free_sulfur_dioxide  total_sulfur_dioxide  density    pH  sulphates  \\\n",
       "0                 36.0                 135.0  0.99380  3.19       0.37   \n",
       "1                  6.0                  12.0  0.99408  3.26       0.62   \n",
       "2                 31.0                  43.0  0.99371  3.41       0.57   \n",
       "3                 13.0                  81.0  0.99020  3.37       0.38   \n",
       "4                 32.0                 141.0  0.99810  3.11       0.49   \n",
       "\n",
       "   alcohol  \n",
       "0     10.5  \n",
       "1     12.4  \n",
       "2     11.8  \n",
       "3     11.7  \n",
       "4      9.3  "
      ]
     },
     "execution_count": 22,
     "metadata": {},
     "output_type": "execute_result"
    }
   ],
   "source": [
    "# TODO: Print the first five rows of the data\n",
    "\n",
    "# Hint: use the '.head()' method"
   ]
  },
  {
   "cell_type": "code",
   "execution_count": 12,
   "metadata": {},
   "outputs": [],
   "source": [
    "# TODO: Print the number of rows and columns in the dataset \n",
    "\n",
    "# Hint: use '.shape'"
   ]
  },
  {
   "cell_type": "code",
   "execution_count": 13,
   "metadata": {},
   "outputs": [],
   "source": [
    "# TODO: Print the summary statistics for the dataset\n",
    "\n",
    "# Hint: use '.describe()'"
   ]
  },
  {
   "cell_type": "markdown",
   "metadata": {},
   "source": [
    "## Data Preprocessing "
   ]
  },
  {
   "cell_type": "markdown",
   "metadata": {},
   "source": [
    "Here we preprocess the data to make the data suitable for training. We will first split the data into training and validation sets. Feel free to add new cells as you see fit. "
   ]
  },
  {
   "cell_type": "code",
   "execution_count": 14,
   "metadata": {},
   "outputs": [],
   "source": [
    "# We split the data into X and y variables. X are the features and y is the target variable. we wand to predict. \n",
    "# We are trying to predict the alcohol content given the other variables. \n",
    "X_train = df.drop('alcohol', axis=1)\n",
    "y_train = df['alcohol']\n",
    "\n",
    "# We done covert the Matrix X and vector y in numpy arrays.\n",
    "X_train = X_train.to_numpy()\n",
    "y_train = y_train.to_numpy()"
   ]
  },
  {
   "cell_type": "code",
   "execution_count": 15,
   "metadata": {},
   "outputs": [],
   "source": [
    "# TODO: add your own data pre-processing steps here. (hint: it might be worth looking at normalizing the data to make training easier)"
   ]
  },
  {
   "cell_type": "markdown",
   "metadata": {},
   "source": [
    "## Define our Neural Network Model"
   ]
  },
  {
   "cell_type": "markdown",
   "metadata": {},
   "source": [
    "We now define the architecture of our model. Remember the more complex your model architecture, the more complex your data will be able to fit. However, this also means that your model will be more prone to overfitting. So be careful! You can also look at other ways of reducing overfitting such as regularization. "
   ]
  },
  {
   "cell_type": "code",
   "execution_count": 16,
   "metadata": {},
   "outputs": [
    {
     "name": "stdout",
     "output_type": "stream",
     "text": [
      "Sequential()\n"
     ]
    }
   ],
   "source": [
    "num_input_features, num_hidden_neurons = X_train.shape[1], 10\n",
    "model = nn.Sequential(\n",
    "    # TODO: add layers to our model\n",
    "\n",
    "    # Note: remember that we are trying to predict a continuous variable.\n",
    "    # Our output layer should have only one neuron, and our input layer should be the number of columns in X.\n",
    "\n",
    ")\n",
    "\n",
    "# Move model to GPU if available\n",
    "model = model.cuda() if torch.cuda.is_available() else model\n",
    "print(model)"
   ]
  },
  {
   "cell_type": "markdown",
   "metadata": {},
   "source": [
    "## Training our Model\n",
    "\n",
    "Now it's finally time to train our model! Make sure to use the training set to avoid overfittng! First, we define the hyperparameter. Feel free to experiment with those!"
   ]
  },
  {
   "cell_type": "code",
   "execution_count": 17,
   "metadata": {},
   "outputs": [],
   "source": [
    "# TODO: change 'None' with values you think are appropriate. Experiment with different values to see what works best!\n",
    "learning_rate = None\n",
    "batch_size = None\n",
    "num_epochs = None"
   ]
  },
  {
   "cell_type": "markdown",
   "metadata": {},
   "source": [
    "Define your loss function below. Options are given in the [documentation](https://pytorch.org/docs/stable/nn.functional.html#loss-functions). "
   ]
  },
  {
   "cell_type": "code",
   "execution_count": 18,
   "metadata": {},
   "outputs": [],
   "source": [
    "# TODO: replace 'None' with your loss function.\n",
    "\n",
    "# Hint: we are trying to predict a continuous variable.\n",
    "\n",
    "def loss_fun(pred, target):\n",
    "    return None"
   ]
  },
  {
   "cell_type": "markdown",
   "metadata": {},
   "source": [
    "Lets also define our optimizer. Look at the [documentation](https://pytorch.org/docs/stable/optim.html#algorithms) for a list of optimization algorithms."
   ]
  },
  {
   "cell_type": "code",
   "execution_count": 19,
   "metadata": {},
   "outputs": [],
   "source": [
    "# TODO: replace 'None' with your optimizer.\n",
    "optim = None"
   ]
  },
  {
   "cell_type": "markdown",
   "metadata": {},
   "source": [
    "Finally we set up our model for training and plotting."
   ]
  },
  {
   "cell_type": "code",
   "execution_count": 20,
   "metadata": {},
   "outputs": [],
   "source": [
    "#Keep track of losses\n",
    "plotlosses = PlotLosses()\n",
    "\n",
    "# Convert our training data to tensors\n",
    "X_train_tensor = torch.from_numpy(X_train).float().to(device)\n",
    "y_train_tensor = torch.from_numpy(y_train).float().to(device)\n",
    "\n",
    "# Change model to training mode\n",
    "model.train();"
   ]
  },
  {
   "cell_type": "markdown",
   "metadata": {},
   "source": [
    "Run the code cell below to train your model."
   ]
  },
  {
   "cell_type": "code",
   "execution_count": 21,
   "metadata": {},
   "outputs": [
    {
     "ename": "SyntaxError",
     "evalue": "incomplete input (3340681339.py, line 3)",
     "output_type": "error",
     "traceback": [
      "\u001b[0;36m  Cell \u001b[0;32mIn[21], line 3\u001b[0;36m\u001b[0m\n\u001b[0;31m    \u001b[0m\n\u001b[0m    ^\u001b[0m\n\u001b[0;31mSyntaxError\u001b[0m\u001b[0;31m:\u001b[0m incomplete input\n"
     ]
    }
   ],
   "source": [
    "for _ in range(num_epochs):\n",
    "    # TODO: add the code to train your model. (hint: use plotlosses to see the live loss plot)\n",
    "    "
   ]
  },
  {
   "cell_type": "markdown",
   "metadata": {},
   "source": [
    "## Preparing your DOXA Submission"
   ]
  },
  {
   "cell_type": "code",
   "execution_count": null,
   "metadata": {},
   "outputs": [],
   "source": [
    "# Convert to numpy arrays\n",
    "X_test = test_df.to_numpy()\n",
    "\n",
    "# Pass our data through our neural network\n",
    "model.eval()\n",
    "with torch.no_grad(): \n",
    "    predictions = model(torch.from_numpy(X_test).float().to(device)).numpy().squeeze()\n",
    "\n",
    "assert predictions.shape == (1300,) \n",
    "\n",
    "# Take a look at the first 20 predictions\n",
    "predictions[:20]"
   ]
  },
  {
   "cell_type": "code",
   "execution_count": null,
   "metadata": {},
   "outputs": [],
   "source": [
    "os.makedirs(\"submission\", exist_ok=True)\n",
    "\n",
    "with open(\"submission/y.txt\", \"w\") as f:\n",
    "    f.writelines([f\"{prediction}\\n\" for prediction in predictions])\n",
    "\n",
    "with open(\"submission/doxa.yaml\", \"w\") as f:\n",
    "    f.write(\n",
    "        \"competition: uclais-2023-2\\nenvironment: cpu\\nlanguage: python\\nentrypoint: run.py\"\n",
    "    )\n",
    "\n",
    "with open(\"submission/run.py\", \"w\") as f:\n",
    "    f.write(\n",
    "        \"\"\"import os\n",
    "\n",
    "with open('y.txt', 'r') as f:\n",
    "    with open(os.environ[\"DOXA_STREAMS\"] + \"/out\", \"w\") as g:\n",
    "        g.write(f.read().strip())\"\"\"\n",
    "    )"
   ]
  },
  {
   "cell_type": "markdown",
   "metadata": {},
   "source": [
    "## Submitting to DOXA\n",
    "\n",
    "Before you can submit to DOXA, you must first ensure that you are enrolled for the challenge on the DOXA website. Visit [the challenge page](https://doxaai.com/competition/uclais-1) and click \"Enrol\" in the top-right corner if you have not done so already.\n",
    "\n",
    "You can then log in using the DOXA CLI by running the following command:"
   ]
  },
  {
   "cell_type": "code",
   "execution_count": null,
   "metadata": {},
   "outputs": [],
   "source": [
    "!doxa login"
   ]
  },
  {
   "cell_type": "markdown",
   "metadata": {},
   "source": [
    "Finally, you can submit your results to DOXA by running the following command:"
   ]
  },
  {
   "cell_type": "code",
   "execution_count": null,
   "metadata": {},
   "outputs": [],
   "source": [
    "!doxa upload submission"
   ]
  },
  {
   "cell_type": "markdown",
   "metadata": {},
   "source": [
    "Wooo! 🥳 You have (probably) just uploaded your predictions to DOXA &ndash; well done! Take a moment to see how you have done on the [scoreboard](https://doxaai.com/competition/uclais-2023-2/scoreboard)."
   ]
  }
 ],
 "metadata": {
  "kernelspec": {
   "display_name": "Python 3.10.1 64-bit",
   "language": "python",
   "name": "python3"
  },
  "language_info": {
   "codemirror_mode": {
    "name": "ipython",
    "version": 3
   },
   "file_extension": ".py",
   "mimetype": "text/x-python",
   "name": "python",
   "nbconvert_exporter": "python",
   "pygments_lexer": "ipython3",
   "version": "3.10.8"
  },
  "orig_nbformat": 4,
  "vscode": {
   "interpreter": {
    "hash": "369f2c481f4da34e4445cda3fffd2e751bd1c4d706f27375911949ba6bb62e1c"
   }
  }
 },
 "nbformat": 4,
 "nbformat_minor": 2
}
