{
 "cells": [
  {
   "cell_type": "markdown",
   "id": "6d41525f",
   "metadata": {},
   "source": [
    "# 1. Natural Language Toolkit\n",
    "\n",
    "### What is Natural Language Toolkit?\n",
    "\n",
    "Natural Language Toolkit (or NLTK for short) is a group of libraries and programs used for symbolic and statistical natural language processing.\n",
    "\n",
    "As it has been mentioned previously, data for NLP model has to be preprocessed prior to the training procedure. Such preprocessing operations could include, converting string-type data to numerical data, performing semantical analysis, etc. All of these (and many more) operations can be simply implemented using the NLTK library.\n",
    "\n",
    "In the following section, we will look at the most relevant functions."
   ]
  },
  {
   "cell_type": "code",
   "execution_count": null,
   "id": "a34cf6a7",
   "metadata": {},
   "outputs": [],
   "source": [
    "#Setting up\n",
    "!pip install nltk"
   ]
  },
  {
   "cell_type": "code",
   "execution_count": null,
   "id": "90c9c926",
   "metadata": {},
   "outputs": [],
   "source": [
    "import nltk\n",
    "\n",
    "nltk.download()"
   ]
  },
  {
   "cell_type": "markdown",
   "id": "6dc33c09",
   "metadata": {},
   "source": [
    "### Tokenization\n",
    "\n",
    "![tokenization](https://th.bing.com/th/id/OIP.mp2GAfOG8L4JxUv54-364gHaB1?pid=ImgDet&rs=1)\n",
    "\n",
    "Prior to processing textual data, we should first tokenize it. In other words, we should split it into smaller parts (sentences to words, paragraphs to sentences), as it reduces further processing time.\n",
    "\n",
    "#### Sentence tokenization\n",
    "\n",
    "As the name might suggest, in the sentence tokenization we aim to split groups of sentences/paragraphs to shorter sentences."
   ]
  },
  {
   "cell_type": "code",
   "execution_count": null,
   "id": "d96c6a2e",
   "metadata": {},
   "outputs": [],
   "source": [
    "from nltk.tokenize import sent_tokenize\n",
    "\n",
    "Text = \"Natural language processing (NLP) refers to the branch of computer science. To be more specific, the branch of artificial intelligence. It is concerned with giving computers the ability to understand text and spoken words in much the same way human beings can.\"\n",
    "\n",
    "sent_tokenize = sent_tokenize(Text)\n",
    "\n",
    "sent_tokenize"
   ]
  },
  {
   "cell_type": "markdown",
   "id": "68776a8e",
   "metadata": {},
   "source": [
    "#### Word tokenization\n",
    "\n",
    "In contrast to sentence tokenization, the goal of word tokenization is to divide textual data into individual words."
   ]
  },
  {
   "cell_type": "code",
   "execution_count": null,
   "id": "53e91104",
   "metadata": {},
   "outputs": [],
   "source": [
    "word_tokenize = nltk.word_tokenize(Text)\n",
    "\n",
    "word_tokenize"
   ]
  },
  {
   "cell_type": "markdown",
   "id": "2e931ccc",
   "metadata": {},
   "source": [
    "### Stemming\n",
    "\n",
    "![stemming](https://th.bing.com/th/id/OIP.vzQ5E_6loS0hz8fJbQQbXAHaFj?pid=ImgDet&rs=1)\n",
    "\n",
    "Stemming is the process of producing morphological variants using the given base word. The usage of stemming algorithms allows multiple word variations to share a *same* meaning / attribute (for instance, 'fish', 'fishing' are variants of the base word 'fish').\n",
    "\n",
    "In many cases, stemming algorithm tends to cut the end of the word until the base word is found, as it works in the most cases.\n",
    "\n",
    "Let's look at one of the most common stemming tools implementation - **Porter Stemmer**."
   ]
  },
  {
   "cell_type": "code",
   "execution_count": null,
   "id": "184b8ef4",
   "metadata": {},
   "outputs": [],
   "source": [
    "from nltk.stem.porter import *\n",
    "\n",
    "stemmer = PorterStemmer()\n",
    "\n",
    "words = ['fishing', 'believes', 'writes', 'loving', 'cats']\n",
    "\n",
    "for word in words:\n",
    "    print(word + '-----' + stemmer.stem(word))"
   ]
  },
  {
   "cell_type": "markdown",
   "id": "72330617",
   "metadata": {},
   "source": [
    "### Lemmatization\n",
    "\n",
    "In contrast to stemming, lemmatization does not apply simple *'word end cutting'* and rather considers a full vocabulary to apply a morphological word analysis. The simple examples of such reduction could be interpretting 'was' as one of the 'be' or 'mice' as 'mouse'.\n",
    "\n",
    "As a result, lemmatization is considered to be more informative than simple stemming, but also, slower."
   ]
  },
  {
   "cell_type": "code",
   "execution_count": null,
   "id": "25f6d0b8",
   "metadata": {},
   "outputs": [],
   "source": [
    "from nltk.stem import WordNetLemmatizer\n",
    "\n",
    "lemmatizer = WordNetLemmatizer();\n",
    "\n",
    "words = ['believes', 'lives', 'mice']\n",
    "\n",
    "for word in words:\n",
    "    print(word + '-----' + lemmatizer.lemmatize(word))"
   ]
  },
  {
   "cell_type": "markdown",
   "id": "f04e69b8",
   "metadata": {},
   "source": [
    "On the other hand, same words can be interpreted differently based on the part of speech. To correctly interpret such words, we can specify the ```pos``` argument in the lemmatizer function."
   ]
  },
  {
   "cell_type": "code",
   "execution_count": null,
   "id": "5579ede0",
   "metadata": {},
   "outputs": [],
   "source": [
    "#crossing as adjective\n",
    "print(lemmatizer.lemmatize('crossing', pos = 'a'))\n",
    "\n",
    "#crossing as verb\n",
    "print(lemmatizer.lemmatize('crossing', pos = 'v'))"
   ]
  },
  {
   "cell_type": "markdown",
   "id": "d40307ab",
   "metadata": {},
   "source": [
    "### Stopwords\n",
    "\n",
    "Stopwords are the words in any language which do not add much meaning to a sentence, thus can be ignored without lossing accuracy. The examples of such words could be 'is', 'the', 'at', however, each NLP tool has a different list of stopwords."
   ]
  },
  {
   "cell_type": "code",
   "execution_count": null,
   "id": "ebf58500",
   "metadata": {},
   "outputs": [],
   "source": [
    "from nltk.corpus import stopwords\n",
    "\n",
    "print(stopwords.words('english'))"
   ]
  },
  {
   "cell_type": "markdown",
   "id": "3c25a7f2",
   "metadata": {},
   "source": [
    "As these words do not carry much information, they can be removed, however, this depends from case to case. \n",
    "\n",
    "Generally, NLP models for text classification, sentiment analysis, spam classification (and so on) would require the removal of stop words.\n",
    "\n",
    "On the other hand, if we are dealing with the translation models, stopwords should be left as they might provide some contextual information.\n",
    "\n",
    "Let's remove stopwords from the previously analyzed NLP definition."
   ]
  },
  {
   "cell_type": "code",
   "execution_count": null,
   "id": "333ca929",
   "metadata": {},
   "outputs": [],
   "source": [
    "from nltk.corpus import stopwords\n",
    "\n",
    "stopwords = set(stopwords.words('english'))\n",
    "\n",
    "Text = \"Natural language processing (NLP) refers to the branch of computer science. To be more specific, the branch of artificial intelligence. It is concerned with giving computers the ability to understand text and spoken words in much the same way human beings can.\"\n",
    "\n",
    "words = nltk.word_tokenize(Text)\n",
    "\n",
    "filtered_words = []\n",
    "\n",
    "for word in words:\n",
    "    if word not in stopwords:\n",
    "        filtered_words.append(word)\n",
    "        \n",
    "print(filtered_words)"
   ]
  }
 ],
 "metadata": {
  "kernelspec": {
   "display_name": "Python 3 (ipykernel)",
   "language": "python",
   "name": "python3"
  },
  "language_info": {
   "codemirror_mode": {
    "name": "ipython",
    "version": 3
   },
   "file_extension": ".py",
   "mimetype": "text/x-python",
   "name": "python",
   "nbconvert_exporter": "python",
   "pygments_lexer": "ipython3",
   "version": "3.9.6"
  }
 },
 "nbformat": 4,
 "nbformat_minor": 5
}
